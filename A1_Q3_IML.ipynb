{
  "nbformat": 4,
  "nbformat_minor": 0,
  "metadata": {
    "colab": {
      "name": "A1-Q3-IML.ipynb",
      "provenance": [],
      "collapsed_sections": []
    },
    "kernelspec": {
      "name": "python3",
      "display_name": "Python 3"
    },
    "language_info": {
      "name": "python"
    }
  },
  "cells": [
    {
      "cell_type": "markdown",
      "metadata": {
        "id": "95b8QmhCs6EI"
      },
      "source": [
        " QUESTION 3-\n",
        " Use Decision Tree(DT) and Gaussian Naive Bayes (GNB) classifier to train\n",
        "Dataset 1. \n",
        "\n",
        "Split the data into 60-20-20 train-val-test splits. Implement K-Fold cross validation for both GNB and DT.\n",
        "\n",
        "\n",
        "\n"
      ]
    },
    {
      "cell_type": "markdown",
      "metadata": {
        "id": "ZsBjqZ-WptAb"
      },
      "source": [
        "(a) Save the best model, load the saved model to predict the results on the test data (2 points).\n",
        "\n",
        "(b) Evaluate testing data on the basis of accuracy, precision, recall, F1-Score,\n",
        "plot ROC-curve and confusion matrix (1 point).\n",
        "\n",
        "(c) Find optimal depth as a parameter in-case of DT using Grid Search and use\n",
        "K-Fold cross validation to validate it (1 point).\n",
        "\n",
        "(d) For DT plot training and validation accuracy plot with respect to tree depth\n",
        "and write your analysis(1 point)."
      ]
    },
    {
      "cell_type": "code",
      "metadata": {
        "colab": {
          "resources": {
            "http://localhost:8080/nbextensions/google.colab/files.js": {
              "data": "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",
              "ok": true,
              "headers": [
                [
                  "content-type",
                  "application/javascript"
                ]
              ],
              "status": 200,
              "status_text": ""
            }
          },
          "base_uri": "https://localhost:8080/",
          "height": 73
        },
        "id": "KOgysVnc7Qp-",
        "outputId": "290daa59-bb7f-49fa-c3ff-9508a72f0af6"
      },
      "source": [
        "#importing file to colab\n",
        "\n",
        "from google.colab import files\n",
        "uploaded = files.upload()"
      ],
      "execution_count": 1,
      "outputs": [
        {
          "output_type": "display_data",
          "data": {
            "text/html": [
              "\n",
              "     <input type=\"file\" id=\"files-22314bd2-8510-461a-8885-60536a375703\" name=\"files[]\" multiple disabled\n",
              "        style=\"border:none\" />\n",
              "     <output id=\"result-22314bd2-8510-461a-8885-60536a375703\">\n",
              "      Upload widget is only available when the cell has been executed in the\n",
              "      current browser session. Please rerun this cell to enable.\n",
              "      </output>\n",
              "      <script src=\"/nbextensions/google.colab/files.js\"></script> "
            ],
            "text/plain": [
              "<IPython.core.display.HTML object>"
            ]
          },
          "metadata": {
            "tags": []
          }
        },
        {
          "output_type": "stream",
          "text": [
            "Saving abalone.csv to abalone.csv\n"
          ],
          "name": "stdout"
        }
      ]
    },
    {
      "cell_type": "code",
      "metadata": {
        "id": "tsUPfgHu7jr-"
      },
      "source": [
        "#Import libraries\n",
        "\n",
        "import numpy as np\n",
        "import pandas as pd\n",
        "import tensorflow.compat.v1 as tf\n",
        "tf.disable_v2_behavior() \n",
        "import matplotlib.pyplot as plt\n",
        "from sklearn.model_selection import train_test_split\n",
        "from keras.wrappers.scikit_learn import KerasRegressor\n",
        "from sklearn.model_selection import KFold\n",
        "from sklearn.model_selection import cross_val_score\n",
        "from keras.models import Sequential\n",
        "from keras.layers import Dense\n",
        "from sklearn.metrics import accuracy_score\n",
        "from pandas import DataFrame\n",
        "import matplotlib.pyplot as plot\n",
        "import numpy as np\n",
        "%matplotlib inline\n",
        "from sklearn.model_selection import StratifiedKFold\n",
        "from sklearn import linear_model, tree, ensemble\n",
        "# Gaussian Naive Bayes\n",
        "from sklearn import datasets\n",
        "from sklearn import metrics\n",
        "from sklearn.naive_bayes import GaussianNB"
      ],
      "execution_count": 82,
      "outputs": []
    },
    {
      "cell_type": "code",
      "metadata": {
        "id": "I8sFqAM97nE6"
      },
      "source": [
        "#reading the file\n",
        "df = pd.read_csv('abalone.csv')  "
      ],
      "execution_count": 52,
      "outputs": []
    },
    {
      "cell_type": "code",
      "metadata": {
        "colab": {
          "base_uri": "https://localhost:8080/"
        },
        "id": "EWj3pEm4mahk",
        "outputId": "fac13c2f-d561-43d8-a84e-52ec541901af"
      },
      "source": [
        "#different methods to understand the Abalone data\n",
        "df.info()"
      ],
      "execution_count": 53,
      "outputs": [
        {
          "output_type": "stream",
          "text": [
            "<class 'pandas.core.frame.DataFrame'>\n",
            "RangeIndex: 4177 entries, 0 to 4176\n",
            "Data columns (total 9 columns):\n",
            " #   Column          Non-Null Count  Dtype  \n",
            "---  ------          --------------  -----  \n",
            " 0   Sex             4177 non-null   object \n",
            " 1   Length          4177 non-null   float64\n",
            " 2   Diameter        4177 non-null   float64\n",
            " 3   Height          4177 non-null   float64\n",
            " 4   Whole weight    4177 non-null   float64\n",
            " 5   Shucked weight  4177 non-null   float64\n",
            " 6   Viscera weight  4177 non-null   float64\n",
            " 7   Shell weight    4177 non-null   float64\n",
            " 8   Rings           4177 non-null   int64  \n",
            "dtypes: float64(7), int64(1), object(1)\n",
            "memory usage: 293.8+ KB\n"
          ],
          "name": "stdout"
        }
      ]
    },
    {
      "cell_type": "code",
      "metadata": {
        "colab": {
          "base_uri": "https://localhost:8080/"
        },
        "id": "DMC_Gd5P-OcT",
        "outputId": "16b658e6-dc2d-4386-e550-8ea0a4e6aab6"
      },
      "source": [
        "df.columns"
      ],
      "execution_count": 54,
      "outputs": [
        {
          "output_type": "execute_result",
          "data": {
            "text/plain": [
              "Index(['Sex', 'Length', 'Diameter', 'Height', 'Whole weight', 'Shucked weight',\n",
              "       'Viscera weight', 'Shell weight', 'Rings'],\n",
              "      dtype='object')"
            ]
          },
          "metadata": {
            "tags": []
          },
          "execution_count": 54
        }
      ]
    },
    {
      "cell_type": "code",
      "metadata": {
        "colab": {
          "base_uri": "https://localhost:8080/",
          "height": 198
        },
        "id": "T3WST6Vd--ry",
        "outputId": "e73a6fa3-61b0-43a3-c1c8-0b107c497b4a"
      },
      "source": [
        "df.head()"
      ],
      "execution_count": 55,
      "outputs": [
        {
          "output_type": "execute_result",
          "data": {
            "text/html": [
              "<div>\n",
              "<style scoped>\n",
              "    .dataframe tbody tr th:only-of-type {\n",
              "        vertical-align: middle;\n",
              "    }\n",
              "\n",
              "    .dataframe tbody tr th {\n",
              "        vertical-align: top;\n",
              "    }\n",
              "\n",
              "    .dataframe thead th {\n",
              "        text-align: right;\n",
              "    }\n",
              "</style>\n",
              "<table border=\"1\" class=\"dataframe\">\n",
              "  <thead>\n",
              "    <tr style=\"text-align: right;\">\n",
              "      <th></th>\n",
              "      <th>Sex</th>\n",
              "      <th>Length</th>\n",
              "      <th>Diameter</th>\n",
              "      <th>Height</th>\n",
              "      <th>Whole weight</th>\n",
              "      <th>Shucked weight</th>\n",
              "      <th>Viscera weight</th>\n",
              "      <th>Shell weight</th>\n",
              "      <th>Rings</th>\n",
              "    </tr>\n",
              "  </thead>\n",
              "  <tbody>\n",
              "    <tr>\n",
              "      <th>0</th>\n",
              "      <td>M</td>\n",
              "      <td>0.455</td>\n",
              "      <td>0.365</td>\n",
              "      <td>0.095</td>\n",
              "      <td>0.5140</td>\n",
              "      <td>0.2245</td>\n",
              "      <td>0.1010</td>\n",
              "      <td>0.150</td>\n",
              "      <td>15</td>\n",
              "    </tr>\n",
              "    <tr>\n",
              "      <th>1</th>\n",
              "      <td>M</td>\n",
              "      <td>0.350</td>\n",
              "      <td>0.265</td>\n",
              "      <td>0.090</td>\n",
              "      <td>0.2255</td>\n",
              "      <td>0.0995</td>\n",
              "      <td>0.0485</td>\n",
              "      <td>0.070</td>\n",
              "      <td>7</td>\n",
              "    </tr>\n",
              "    <tr>\n",
              "      <th>2</th>\n",
              "      <td>F</td>\n",
              "      <td>0.530</td>\n",
              "      <td>0.420</td>\n",
              "      <td>0.135</td>\n",
              "      <td>0.6770</td>\n",
              "      <td>0.2565</td>\n",
              "      <td>0.1415</td>\n",
              "      <td>0.210</td>\n",
              "      <td>9</td>\n",
              "    </tr>\n",
              "    <tr>\n",
              "      <th>3</th>\n",
              "      <td>M</td>\n",
              "      <td>0.440</td>\n",
              "      <td>0.365</td>\n",
              "      <td>0.125</td>\n",
              "      <td>0.5160</td>\n",
              "      <td>0.2155</td>\n",
              "      <td>0.1140</td>\n",
              "      <td>0.155</td>\n",
              "      <td>10</td>\n",
              "    </tr>\n",
              "    <tr>\n",
              "      <th>4</th>\n",
              "      <td>I</td>\n",
              "      <td>0.330</td>\n",
              "      <td>0.255</td>\n",
              "      <td>0.080</td>\n",
              "      <td>0.2050</td>\n",
              "      <td>0.0895</td>\n",
              "      <td>0.0395</td>\n",
              "      <td>0.055</td>\n",
              "      <td>7</td>\n",
              "    </tr>\n",
              "  </tbody>\n",
              "</table>\n",
              "</div>"
            ],
            "text/plain": [
              "  Sex  Length  Diameter  ...  Viscera weight  Shell weight  Rings\n",
              "0   M   0.455     0.365  ...          0.1010         0.150     15\n",
              "1   M   0.350     0.265  ...          0.0485         0.070      7\n",
              "2   F   0.530     0.420  ...          0.1415         0.210      9\n",
              "3   M   0.440     0.365  ...          0.1140         0.155     10\n",
              "4   I   0.330     0.255  ...          0.0395         0.055      7\n",
              "\n",
              "[5 rows x 9 columns]"
            ]
          },
          "metadata": {
            "tags": []
          },
          "execution_count": 55
        }
      ]
    },
    {
      "cell_type": "code",
      "metadata": {
        "colab": {
          "base_uri": "https://localhost:8080/"
        },
        "id": "Mpd6qDq9_5Q1",
        "outputId": "87e43180-0cce-4d26-a400-1e3c7ccf32bd"
      },
      "source": [
        "#checking for null values in the dataset\n",
        "df.isnull().sum(axis = 0)"
      ],
      "execution_count": 56,
      "outputs": [
        {
          "output_type": "execute_result",
          "data": {
            "text/plain": [
              "Sex               0\n",
              "Length            0\n",
              "Diameter          0\n",
              "Height            0\n",
              "Whole weight      0\n",
              "Shucked weight    0\n",
              "Viscera weight    0\n",
              "Shell weight      0\n",
              "Rings             0\n",
              "dtype: int64"
            ]
          },
          "metadata": {
            "tags": []
          },
          "execution_count": 56
        }
      ]
    },
    {
      "cell_type": "code",
      "metadata": {
        "colab": {
          "base_uri": "https://localhost:8080/",
          "height": 198
        },
        "id": "OCPgjWUfAFig",
        "outputId": "1f88c3af-e553-4640-83ed-9799eb78ac2c"
      },
      "source": [
        "#The task is to predict the age (number of rings) of abalone from physical measurements.\n",
        "\n",
        "# convert categorical \"Sex\" into numeric \n",
        "df = pd.get_dummies(df)\n",
        "df.head()"
      ],
      "execution_count": 58,
      "outputs": [
        {
          "output_type": "execute_result",
          "data": {
            "text/html": [
              "<div>\n",
              "<style scoped>\n",
              "    .dataframe tbody tr th:only-of-type {\n",
              "        vertical-align: middle;\n",
              "    }\n",
              "\n",
              "    .dataframe tbody tr th {\n",
              "        vertical-align: top;\n",
              "    }\n",
              "\n",
              "    .dataframe thead th {\n",
              "        text-align: right;\n",
              "    }\n",
              "</style>\n",
              "<table border=\"1\" class=\"dataframe\">\n",
              "  <thead>\n",
              "    <tr style=\"text-align: right;\">\n",
              "      <th></th>\n",
              "      <th>Length</th>\n",
              "      <th>Diameter</th>\n",
              "      <th>Height</th>\n",
              "      <th>Whole weight</th>\n",
              "      <th>Shucked weight</th>\n",
              "      <th>Viscera weight</th>\n",
              "      <th>Shell weight</th>\n",
              "      <th>Rings</th>\n",
              "      <th>Sex_F</th>\n",
              "      <th>Sex_I</th>\n",
              "      <th>Sex_M</th>\n",
              "    </tr>\n",
              "  </thead>\n",
              "  <tbody>\n",
              "    <tr>\n",
              "      <th>0</th>\n",
              "      <td>0.455</td>\n",
              "      <td>0.365</td>\n",
              "      <td>0.095</td>\n",
              "      <td>0.5140</td>\n",
              "      <td>0.2245</td>\n",
              "      <td>0.1010</td>\n",
              "      <td>0.150</td>\n",
              "      <td>15</td>\n",
              "      <td>0</td>\n",
              "      <td>0</td>\n",
              "      <td>1</td>\n",
              "    </tr>\n",
              "    <tr>\n",
              "      <th>1</th>\n",
              "      <td>0.350</td>\n",
              "      <td>0.265</td>\n",
              "      <td>0.090</td>\n",
              "      <td>0.2255</td>\n",
              "      <td>0.0995</td>\n",
              "      <td>0.0485</td>\n",
              "      <td>0.070</td>\n",
              "      <td>7</td>\n",
              "      <td>0</td>\n",
              "      <td>0</td>\n",
              "      <td>1</td>\n",
              "    </tr>\n",
              "    <tr>\n",
              "      <th>2</th>\n",
              "      <td>0.530</td>\n",
              "      <td>0.420</td>\n",
              "      <td>0.135</td>\n",
              "      <td>0.6770</td>\n",
              "      <td>0.2565</td>\n",
              "      <td>0.1415</td>\n",
              "      <td>0.210</td>\n",
              "      <td>9</td>\n",
              "      <td>1</td>\n",
              "      <td>0</td>\n",
              "      <td>0</td>\n",
              "    </tr>\n",
              "    <tr>\n",
              "      <th>3</th>\n",
              "      <td>0.440</td>\n",
              "      <td>0.365</td>\n",
              "      <td>0.125</td>\n",
              "      <td>0.5160</td>\n",
              "      <td>0.2155</td>\n",
              "      <td>0.1140</td>\n",
              "      <td>0.155</td>\n",
              "      <td>10</td>\n",
              "      <td>0</td>\n",
              "      <td>0</td>\n",
              "      <td>1</td>\n",
              "    </tr>\n",
              "    <tr>\n",
              "      <th>4</th>\n",
              "      <td>0.330</td>\n",
              "      <td>0.255</td>\n",
              "      <td>0.080</td>\n",
              "      <td>0.2050</td>\n",
              "      <td>0.0895</td>\n",
              "      <td>0.0395</td>\n",
              "      <td>0.055</td>\n",
              "      <td>7</td>\n",
              "      <td>0</td>\n",
              "      <td>1</td>\n",
              "      <td>0</td>\n",
              "    </tr>\n",
              "  </tbody>\n",
              "</table>\n",
              "</div>"
            ],
            "text/plain": [
              "   Length  Diameter  Height  Whole weight  ...  Rings  Sex_F  Sex_I  Sex_M\n",
              "0   0.455     0.365   0.095        0.5140  ...     15      0      0      1\n",
              "1   0.350     0.265   0.090        0.2255  ...      7      0      0      1\n",
              "2   0.530     0.420   0.135        0.6770  ...      9      1      0      0\n",
              "3   0.440     0.365   0.125        0.5160  ...     10      0      0      1\n",
              "4   0.330     0.255   0.080        0.2050  ...      7      0      1      0\n",
              "\n",
              "[5 rows x 11 columns]"
            ]
          },
          "metadata": {
            "tags": []
          },
          "execution_count": 58
        }
      ]
    },
    {
      "cell_type": "code",
      "metadata": {
        "colab": {
          "base_uri": "https://localhost:8080/"
        },
        "id": "UEyAgBXhv_MO",
        "outputId": "990c645c-5552-4443-d580-09ee0629f1ae"
      },
      "source": [
        "#shape of the transformed matrix\n",
        "df.shape"
      ],
      "execution_count": 59,
      "outputs": [
        {
          "output_type": "execute_result",
          "data": {
            "text/plain": [
              "(4177, 11)"
            ]
          },
          "metadata": {
            "tags": []
          },
          "execution_count": 59
        }
      ]
    },
    {
      "cell_type": "code",
      "metadata": {
        "colab": {
          "base_uri": "https://localhost:8080/",
          "height": 1000
        },
        "id": "wNfUNpxVAih0",
        "outputId": "c06ccb48-cfc2-4f48-8301-a9da2a0af253"
      },
      "source": [
        "#understanding correlation between features\n",
        "\n",
        "#find the correlation matrix\n",
        "corMatrix = pd.DataFrame(df.iloc[:,:8].corr()).values\n",
        "corMatrix = np.around(corMatrix, decimals = 5)\n",
        "\n",
        "#visualize the correlation matrix of abalone dataset\n",
        "columns = ['Length', 'Diameter', 'Height', 'Whole weight', 'Shucked weight', 'Viscera weight', 'Shell weight', 'Rings']\n",
        "fig, ax = plot.subplots(figsize = (20,50))\n",
        "im = ax.imshow(corMatrix)\n",
        "\n",
        "ax.set_xticks(range(len(corMatrix)))\n",
        "ax.set_yticks(range(len(corMatrix)))\n",
        "ax.set_xticklabels(columns)\n",
        "ax.set_yticklabels(columns)\n",
        "\n",
        "for i in range(8):\n",
        "    for j in range(8):\n",
        "        text = ax.text(j, i, corMatrix[i, j],ha=\"center\", va=\"center\", color=\"w\")"
      ],
      "execution_count": 63,
      "outputs": [
        {
          "output_type": "display_data",
          "data": {
            "image/png": "[encoded data removed]",
            "text/plain": [
              "<Figure size 1440x3600 with 1 Axes>"
            ]
          },
          "metadata": {
            "tags": [],
            "needs_background": "light"
          }
        }
      ]
    },
    {
      "cell_type": "code",
      "metadata": {
        "colab": {
          "base_uri": "https://localhost:8080/"
        },
        "id": "hoscHCT1nJw6",
        "outputId": "df3779e5-209b-48be-a673-1a1ba1a019a2"
      },
      "source": [
        "#print correlation with target variable ie. \"Rings\"\n",
        "feature_importance = pd.DataFrame(df.iloc[:,:8].corr()).iloc[:-1, -1].sort_values(ascending=False)\n",
        "print('Features in Descending Order of their Importance are as follows-', list(feature_importance.index))"
      ],
      "execution_count": 65,
      "outputs": [
        {
          "output_type": "stream",
          "text": [
            "Features in Descending Order of their Importance are as follows- ['Shell weight', 'Diameter', 'Height', 'Length', 'Whole weight', 'Viscera weight', 'Shucked weight']\n"
          ],
          "name": "stdout"
        }
      ]
    },
    {
      "cell_type": "code",
      "metadata": {
        "colab": {
          "base_uri": "https://localhost:8080/"
        },
        "id": "I3Nt5MfsA-5H",
        "outputId": "3e8d7e2f-6638-4baf-9328-b516a28a1ee2"
      },
      "source": [
        "#the target feature is discrete\n",
        "set(df['Rings'])"
      ],
      "execution_count": 66,
      "outputs": [
        {
          "output_type": "execute_result",
          "data": {
            "text/plain": [
              "{1,\n",
              " 2,\n",
              " 3,\n",
              " 4,\n",
              " 5,\n",
              " 6,\n",
              " 7,\n",
              " 8,\n",
              " 9,\n",
              " 10,\n",
              " 11,\n",
              " 12,\n",
              " 13,\n",
              " 14,\n",
              " 15,\n",
              " 16,\n",
              " 17,\n",
              " 18,\n",
              " 19,\n",
              " 20,\n",
              " 21,\n",
              " 22,\n",
              " 23,\n",
              " 24,\n",
              " 25,\n",
              " 26,\n",
              " 27,\n",
              " 29}"
            ]
          },
          "metadata": {
            "tags": []
          },
          "execution_count": 66
        }
      ]
    },
    {
      "cell_type": "code",
      "metadata": {
        "colab": {
          "base_uri": "https://localhost:8080/",
          "height": 265
        },
        "id": "wFxibM0PBKfI",
        "outputId": "7e8bb0a5-4859-4866-85f1-7210838c2d11"
      },
      "source": [
        "# plotting the distribution of target (Rings)\n",
        "n, bins, patches = plot.hist(df['Rings'], bins = 30)"
      ],
      "execution_count": 68,
      "outputs": [
        {
          "output_type": "display_data",
          "data": {
            "image/png": "[encoded data removed]",
            "text/plain": [
              "<Figure size 432x288 with 1 Axes>"
            ]
          },
          "metadata": {
            "tags": [],
            "needs_background": "light"
          }
        }
      ]
    },
    {
      "cell_type": "code",
      "metadata": {
        "id": "5H590I2FBKzX",
        "colab": {
          "base_uri": "https://localhost:8080/"
        },
        "outputId": "4ca9d70a-9064-4304-fdd5-c10cf9609c62"
      },
      "source": [
        "# Separate the target/label(y) value from features(x)\n",
        "y = df[\"Rings\"]\n",
        "x = df.drop(columns = \"Rings\")\n",
        "\n",
        "print(x.shape)\n",
        "print(y.shape)"
      ],
      "execution_count": 69,
      "outputs": [
        {
          "output_type": "stream",
          "text": [
            "(4177, 10)\n",
            "(4177,)\n"
          ],
          "name": "stdout"
        }
      ]
    },
    {
      "cell_type": "code",
      "metadata": {
        "colab": {
          "base_uri": "https://localhost:8080/"
        },
        "id": "ei-SRMtEC-M3",
        "outputId": "44665f89-0324-4d5a-eada-e8cdc0b80440"
      },
      "source": [
        "#Split the data into 60-20-20 train-val-test splits.\n",
        "\n",
        "seed = 1000\n",
        "x_train, x_validation_and_test, y_train, y_validation_and_test = train_test_split(x, y, test_size=.4, random_state=seed)\n",
        "x_validation, x_test, y_validation, y_test = train_test_split(x_validation_and_test, y_validation_and_test, test_size=.5, random_state=seed)\n",
        "\n",
        "print(df.shape)\n",
        "\n",
        "print(x_train.shape)\n",
        "print(y_train.shape)\n",
        "\n",
        "print(x_validation.shape)\n",
        "print(y_validation.shape)\n",
        "\n",
        "print(x_test.shape)\n",
        "print(y_test.shape)"
      ],
      "execution_count": 71,
      "outputs": [
        {
          "output_type": "stream",
          "text": [
            "(4177, 11)\n",
            "(2506, 10)\n",
            "(2506,)\n",
            "(835, 10)\n",
            "(835,)\n",
            "(836, 10)\n",
            "(836,)\n"
          ],
          "name": "stdout"
        }
      ]
    },
    {
      "cell_type": "code",
      "metadata": {
        "colab": {
          "base_uri": "https://localhost:8080/"
        },
        "id": "iHITEoK5NAVw",
        "outputId": "d70ce2e4-c90e-43fd-80bf-64651a6a0e73"
      },
      "source": [
        "#Decision Tree Classifier Model Score Using KFold\n",
        "\n",
        "#k=5\n",
        "kf = StratifiedKFold(n_splits=5, shuffle=True, random_state=42)\n",
        "\n",
        "count = 1\n",
        "\n",
        "for train_index, test_index in kf.split(x_train, y_train):\n",
        "    print(f'Fold:{cnt}, Train set: {len(train_index)}, Test set:{len(test_index)}')\n",
        "    count+=1\n",
        "\n",
        "#DT Classifier Model Score calculation\n",
        "scoreDT = cross_val_score(tree.DecisionTreeClassifier(random_state= 42), x_train, y_train, cv= kf, scoring=\"accuracy\")\n",
        "print(f'Scores for each fold are: {scoreDT}')\n",
        "print(f'Average Cross-validation score of DT: {\"{:.2f}\".format(scoreDT.mean())}')"
      ],
      "execution_count": 74,
      "outputs": [
        {
          "output_type": "stream",
          "text": [
            "Fold:6, Train set: 2004, Test set:502\n",
            "Fold:6, Train set: 2005, Test set:501\n",
            "Fold:6, Train set: 2005, Test set:501\n",
            "Fold:6, Train set: 2005, Test set:501\n",
            "Fold:6, Train set: 2005, Test set:501\n",
            "Scores for each fold are: [0.22709163 0.21756487 0.18163673 0.19161677 0.20758483]\n",
            "Average Cross-validation score of DT: 0.21\n"
          ],
          "name": "stdout"
        },
        {
          "output_type": "stream",
          "text": [
            "/usr/local/lib/python3.7/dist-packages/sklearn/model_selection/_split.py:667: UserWarning: The least populated class in y has only 1 members, which is less than n_splits=5.\n",
            "  % (min_groups, self.n_splits)), UserWarning)\n",
            "/usr/local/lib/python3.7/dist-packages/sklearn/model_selection/_split.py:667: UserWarning: The least populated class in y has only 1 members, which is less than n_splits=5.\n",
            "  % (min_groups, self.n_splits)), UserWarning)\n"
          ],
          "name": "stderr"
        }
      ]
    },
    {
      "cell_type": "markdown",
      "metadata": {
        "id": "JJdzUozRqDyF"
      },
      "source": [
        "Average Cross-validation score of DT: 0.21\n"
      ]
    },
    {
      "cell_type": "code",
      "metadata": {
        "colab": {
          "base_uri": "https://localhost:8080/"
        },
        "id": "9bTDyIhdGanE",
        "outputId": "d33420db-62c8-420a-e55c-a53ce664dae4"
      },
      "source": [
        "#to train a Gaussian Naive Bayes classifier on the train dataset\n",
        "\n",
        "#instantiating the GNB model\n",
        "gnb = GaussianNB()\n",
        "\n",
        "#fit the model\n",
        "gnb.fit(x_train, y_train)\n",
        "print(gnb)\n",
        "\n",
        "#make predictions\n",
        "y_pred = gnb.predict(x_test)\n",
        "print(y_pred)"
      ],
      "execution_count": 86,
      "outputs": [
        {
          "output_type": "stream",
          "text": [
            "GaussianNB(priors=None, var_smoothing=1e-09)\n",
            "[ 8 18  8 23 11  7  6 23  7 23 23  7 11  9 11  5 23 22 10 23 23 22 22 11\n",
            "  7  4 23 23  4  6 23 22  6 22 22  7 11  7  4 23  8 23  6  6 23 23 23 22\n",
            "  8 11 23  7 22  4  8  8 23 22  6  7  7 22 22  8 11  4 23  6 11  4 23  8\n",
            " 23  8 22 23 23  8  5  8  8  7 22  6  6  7  9 23  6 23  7 22 22  8  4  8\n",
            "  3 23  5 23 23 11 23 23  6  7 11 23 23 23 23  7 22 23 23 23 23 11 23 23\n",
            " 11 22  6  6 23 22 11  8  8 23 11  8  4 23  6  7 23  6 23 23 11  8 22 23\n",
            " 11  8 23 22 23 23 11 23  5  7  4 23 11 11 11 11  6 22  8 23 11 23 22 23\n",
            " 22 23 23 11 11 22 23 22  4 11  4  6 11 23 22  6 22 11  6 22 11  8 22  7\n",
            " 23  6 23  8  8 22 23 23  8  6 23  9 23  8 23 22  6 23  8  6 23  7  7 23\n",
            " 11  6 11 11 23  3 23 12 23  6 23 23 11 22  6 11 23  7 23  6 23 11 23 23\n",
            " 23 11  7  8  8  8 22 22 22  6 22 23 23 23 23  8 22  7 23  7 23 23 22  7\n",
            "  7  8 23  6 23 22 22  7 22 22 22  8 11 18 22 11  8  5  8 22 22 11  8 23\n",
            " 23 23 23  8 23 23 12  7  5 11 11 23  6 22 23  4  7 23  8 23 23 22  7 23\n",
            " 22  6 22 23  6 11 22 22 23  9 23  4 23  8  6 23 23 22 23 23 23 11  4  4\n",
            "  6 23  7 22  8 22  9 23 11  8  7 11 23  7  4 22  6  7  6 18 11 23  8  7\n",
            " 23  8 11  7 22 23  5 23 20 23  4 23  6 22 18 23 22 22 22  8  4 22  3 22\n",
            " 23  4  8 22  8  7  9 23  8 23 23 22 23  6 23  5 22  8  8 23  6 23  6  6\n",
            "  4  8 23 22 23 22  3  7  6 23 22  6  7 23  8 23 23 22 22 22 23  3 23 23\n",
            "  6 23 23  5 23  8  6 22 22 22 23  8  7  7 13 22 23  6  8 23 11  6 23 23\n",
            " 23 22 23  4  6  5 23 22 23 23 23  8 23  8 23 11 23  4  5 23  6  7 23 11\n",
            " 23 22  7  7  7  6 23 22 23  9 22 11  7  9  7 22 23  4 11  8 23 10 11  6\n",
            " 23  7 23 23  3  6 23  4 22 22  5 23  6 11 11  6  6 11  4 23 23  6 11 23\n",
            "  7 23  9 11  4  4  8 23  6 11  8 22  3  6 11 22 22 23  6  7  7 23  4 23\n",
            "  8 11 11  7 22 23 23  4 22  8  7 23  5 22 11 11 22 23 23  8 22 22  4 23\n",
            "  7 11 23  8  9 23 23  6  5  8 22 23  6  3  7  8  6 23 11 12  4 22  7  6\n",
            " 23  5  7  7  6 22  8 23  8 23 22  9  8 23 11 22  6 23 22  9  7 11 23  6\n",
            " 23 23  8 23 23  6  4  5  8 11  8  6 11  7 23  6  7  3 11 11  6  7 22  3\n",
            "  9 23 23 23  4 22  8 23  8 23  7 22 11 11  8 23 23  8 23  6 23 11  4  7\n",
            "  4 22  7 22 23 22 11 22  5  7  7  8 22 23 11 23  8 23 23 23  8 23 23 22\n",
            "  4 23 23 22 23 23  7  8  8 23  7 23  4 22 23  3 23  6 22  8 11 11  5  7\n",
            "  7  7 23  8 23 23 23 23  6 23 23  6  8 22 22  4 23  7  6  8  6 23 23  8\n",
            " 10 11 23  8  9  6  7 11  4 23 22 23 22 22 23  7 22 23  6 23  4 11 23 12\n",
            " 23 11 23 22 22  8  8 23  7 10 23  8  6  8  5  6 22 23 23  9 11 23 23 23\n",
            " 23 22  8 23 23  7 22  7 11 23  8 22 23  6  7  6 23  8 23 22 22 11  7  9\n",
            " 23  7 23 23 22  8 23  6 23 22 23  6  7  4  6  8  6 22 22 11]\n"
          ],
          "name": "stdout"
        }
      ]
    },
    {
      "cell_type": "code",
      "metadata": {
        "colab": {
          "base_uri": "https://localhost:8080/"
        },
        "id": "7TsYDkHKkzGC",
        "outputId": "08a64c9f-a0d4-4174-d2e0-1ff800fcdd61"
      },
      "source": [
        "# Applying K-Fold Cross Validation to GNB\n",
        "\n",
        "scoresGNB = cross_val_score(gnb, x_train, y_train, cv = kf, scoring='accuracy')\n",
        "\n",
        "print('Cross-validation scores:{}'.format(scoresGNB))\n",
        "print(f'Average Cross-validation score: {\"{:.2f}\".format(scoresGNB.mean())}')\n"
      ],
      "execution_count": 89,
      "outputs": [
        {
          "output_type": "stream",
          "text": [
            "Cross-validation scores:[0.10159363 0.12774451 0.14770459 0.15968064 0.14570858]\n",
            "Average Cross-validation score: 0.14\n"
          ],
          "name": "stdout"
        },
        {
          "output_type": "stream",
          "text": [
            "/usr/local/lib/python3.7/dist-packages/sklearn/model_selection/_split.py:667: UserWarning: The least populated class in y has only 1 members, which is less than n_splits=5.\n",
            "  % (min_groups, self.n_splits)), UserWarning)\n"
          ],
          "name": "stderr"
        }
      ]
    },
    {
      "cell_type": "markdown",
      "metadata": {
        "id": "gf8wIeJmq_ND"
      },
      "source": [
        "Average Cross-validation score of GNB: 0.14\n"
      ]
    },
    {
      "cell_type": "markdown",
      "metadata": {
        "id": "k9UfXY9p1jvB"
      },
      "source": [
        "#Answer(a) \n",
        "\n",
        "#DT Classifier is a better model than GNB Classifier, since the Average Cross-validation score of DT: 0.21 > Average Cross-validation score of GNB: 0.14\n"
      ]
    },
    {
      "cell_type": "markdown",
      "metadata": {
        "id": "cyO0dJh7v2x7"
      },
      "source": [
        "#(c) Find optimal depth as a parameter in-case of DT using Grid Search and use K-Fold cross validation to validate it"
      ]
    },
    {
      "cell_type": "code",
      "metadata": {
        "id": "8uqlWdKhyzCL"
      },
      "source": [
        "max_depth = [1,2,3,4,5,6,7,8,9,10,12,13,14,15]"
      ],
      "execution_count": 83,
      "outputs": []
    },
    {
      "cell_type": "code",
      "metadata": {
        "colab": {
          "base_uri": "https://localhost:8080/"
        },
        "id": "aO7XmaBcNAnK",
        "outputId": "2b227cea-6540-4637-fe0d-e651f7bb4b53"
      },
      "source": [
        "#Model Tuning using KFold for optimal depth\n",
        "\n",
        "for val in max_depth:\n",
        "    clf = tree.DecisionTreeClassifier(max_depth= val, random_state= 42)\n",
        "    clf.fit(x_train, y_train)\n",
        "    scoreDEP = cross_val_score(clf, x_train, y_train, cv= kf, scoring=\"accuracy\")\n",
        "    print(f'Average score({val}): {\"{:.3f}\".format(scoreDEP.mean())}')"
      ],
      "execution_count": 85,
      "outputs": [
        {
          "output_type": "stream",
          "text": [
            "/usr/local/lib/python3.7/dist-packages/sklearn/model_selection/_split.py:667: UserWarning: The least populated class in y has only 1 members, which is less than n_splits=5.\n",
            "  % (min_groups, self.n_splits)), UserWarning)\n",
            "/usr/local/lib/python3.7/dist-packages/sklearn/model_selection/_split.py:667: UserWarning: The least populated class in y has only 1 members, which is less than n_splits=5.\n",
            "  % (min_groups, self.n_splits)), UserWarning)\n",
            "/usr/local/lib/python3.7/dist-packages/sklearn/model_selection/_split.py:667: UserWarning: The least populated class in y has only 1 members, which is less than n_splits=5.\n",
            "  % (min_groups, self.n_splits)), UserWarning)\n",
            "/usr/local/lib/python3.7/dist-packages/sklearn/model_selection/_split.py:667: UserWarning: The least populated class in y has only 1 members, which is less than n_splits=5.\n",
            "  % (min_groups, self.n_splits)), UserWarning)\n"
          ],
          "name": "stderr"
        },
        {
          "output_type": "stream",
          "text": [
            "Average score(1): 0.208\n",
            "Average score(2): 0.241\n",
            "Average score(3): 0.256\n",
            "Average score(4): 0.252\n"
          ],
          "name": "stdout"
        },
        {
          "output_type": "stream",
          "text": [
            "/usr/local/lib/python3.7/dist-packages/sklearn/model_selection/_split.py:667: UserWarning: The least populated class in y has only 1 members, which is less than n_splits=5.\n",
            "  % (min_groups, self.n_splits)), UserWarning)\n",
            "/usr/local/lib/python3.7/dist-packages/sklearn/model_selection/_split.py:667: UserWarning: The least populated class in y has only 1 members, which is less than n_splits=5.\n",
            "  % (min_groups, self.n_splits)), UserWarning)\n",
            "/usr/local/lib/python3.7/dist-packages/sklearn/model_selection/_split.py:667: UserWarning: The least populated class in y has only 1 members, which is less than n_splits=5.\n",
            "  % (min_groups, self.n_splits)), UserWarning)\n"
          ],
          "name": "stderr"
        },
        {
          "output_type": "stream",
          "text": [
            "Average score(5): 0.251\n",
            "Average score(6): 0.251\n",
            "Average score(7): 0.255\n"
          ],
          "name": "stdout"
        },
        {
          "output_type": "stream",
          "text": [
            "/usr/local/lib/python3.7/dist-packages/sklearn/model_selection/_split.py:667: UserWarning: The least populated class in y has only 1 members, which is less than n_splits=5.\n",
            "  % (min_groups, self.n_splits)), UserWarning)\n",
            "/usr/local/lib/python3.7/dist-packages/sklearn/model_selection/_split.py:667: UserWarning: The least populated class in y has only 1 members, which is less than n_splits=5.\n",
            "  % (min_groups, self.n_splits)), UserWarning)\n"
          ],
          "name": "stderr"
        },
        {
          "output_type": "stream",
          "text": [
            "Average score(8): 0.250\n",
            "Average score(9): 0.239\n"
          ],
          "name": "stdout"
        },
        {
          "output_type": "stream",
          "text": [
            "/usr/local/lib/python3.7/dist-packages/sklearn/model_selection/_split.py:667: UserWarning: The least populated class in y has only 1 members, which is less than n_splits=5.\n",
            "  % (min_groups, self.n_splits)), UserWarning)\n",
            "/usr/local/lib/python3.7/dist-packages/sklearn/model_selection/_split.py:667: UserWarning: The least populated class in y has only 1 members, which is less than n_splits=5.\n",
            "  % (min_groups, self.n_splits)), UserWarning)\n"
          ],
          "name": "stderr"
        },
        {
          "output_type": "stream",
          "text": [
            "Average score(10): 0.227\n",
            "Average score(12): 0.219\n"
          ],
          "name": "stdout"
        },
        {
          "output_type": "stream",
          "text": [
            "/usr/local/lib/python3.7/dist-packages/sklearn/model_selection/_split.py:667: UserWarning: The least populated class in y has only 1 members, which is less than n_splits=5.\n",
            "  % (min_groups, self.n_splits)), UserWarning)\n",
            "/usr/local/lib/python3.7/dist-packages/sklearn/model_selection/_split.py:667: UserWarning: The least populated class in y has only 1 members, which is less than n_splits=5.\n",
            "  % (min_groups, self.n_splits)), UserWarning)\n"
          ],
          "name": "stderr"
        },
        {
          "output_type": "stream",
          "text": [
            "Average score(13): 0.219\n",
            "Average score(14): 0.209\n",
            "Average score(15): 0.214\n"
          ],
          "name": "stdout"
        },
        {
          "output_type": "stream",
          "text": [
            "/usr/local/lib/python3.7/dist-packages/sklearn/model_selection/_split.py:667: UserWarning: The least populated class in y has only 1 members, which is less than n_splits=5.\n",
            "  % (min_groups, self.n_splits)), UserWarning)\n"
          ],
          "name": "stderr"
        }
      ]
    },
    {
      "cell_type": "markdown",
      "metadata": {
        "id": "1mX4Ov2lwi9w"
      },
      "source": [
        "#Answer (c)- For Abalone dataset, Depth = 3 for a good DT, since Average score(3): 0.256 is maximum for max_depth=3"
      ]
    },
    {
      "cell_type": "markdown",
      "metadata": {
        "id": "gPFacf_NxMSG"
      },
      "source": [
        "#(b) Evaluate testing data on the basis of accuracy, precision, recall, F1-Score, plot ROC-curve and confusion matrix (1 point).\n"
      ]
    },
    {
      "cell_type": "code",
      "metadata": {
        "colab": {
          "base_uri": "https://localhost:8080/"
        },
        "id": "pfdE5L_ZySxt",
        "outputId": "7c21d9f1-9f51-4eef-d585-a138391332a4"
      },
      "source": [
        "#to check class distribution in the test datasetset\n",
        "y_test.value_counts()"
      ],
      "execution_count": 81,
      "outputs": [
        {
          "output_type": "execute_result",
          "data": {
            "text/plain": [
              "9     145\n",
              "10    131\n",
              "8      92\n",
              "11     90\n",
              "7      85\n",
              "12     61\n",
              "6      51\n",
              "13     43\n",
              "14     25\n",
              "15     24\n",
              "5      24\n",
              "18     12\n",
              "4      11\n",
              "17      9\n",
              "16      9\n",
              "19      7\n",
              "21      5\n",
              "20      4\n",
              "3       1\n",
              "2       1\n",
              "29      1\n",
              "26      1\n",
              "22      1\n",
              "23      1\n",
              "25      1\n",
              "1       1\n",
              "Name: Rings, dtype: int64"
            ]
          },
          "metadata": {
            "tags": []
          },
          "execution_count": 81
        }
      ]
    },
    {
      "cell_type": "code",
      "metadata": {
        "colab": {
          "base_uri": "https://localhost:8080/"
        },
        "id": "JIcoSi3Wz8Lj",
        "outputId": "c1280ab4-33a2-46f5-f156-81b43ed0eb13"
      },
      "source": [
        "#Evaluating the GNB classifier\n",
        "\n",
        "\n",
        "#Checking the accuracy score of GNB classifier using train, test and val dataset\n",
        "print('Model accuracy score: {0:0.4f}'. format(accuracy_score(y_test, y_pred)))\n",
        "\n",
        "#Compare the validation-set and test-set accuracy¶\n",
        "y_pred_val = gnb.predict(x_validation)\n",
        "print('Validation-set accuracy score: {0:0.4f}'. format(accuracy_score(y_validation, y_pred_val)))\n",
        "\n",
        "# print the scores on training, val and test set\n",
        "print('Training set score: {:.4f}'.format(gnb.score(x_train, y_train)))\n",
        "print('Validation set score: {:.4f}'.format(gnb.score(x_validation, y_validation)))\n",
        "print('Test set score: {:.4f}'.format(gnb.score(x_test, y_test)))"
      ],
      "execution_count": 94,
      "outputs": [
        {
          "output_type": "stream",
          "text": [
            "Model accuracy score: 0.1077\n",
            "Validation-set accuracy score: 0.1449\n",
            "Training set score: 0.1524\n",
            "Validation set score: 0.1449\n",
            "Test set score: 0.1077\n"
          ],
          "name": "stdout"
        }
      ]
    },
    {
      "cell_type": "code",
      "metadata": {
        "colab": {
          "base_uri": "https://localhost:8080/"
        },
        "id": "lm5ZmwcdNAqh",
        "outputId": "7f2fabae-3dda-4ec5-ad9f-1c20bcc786a1"
      },
      "source": [
        "#Evaluating the DT classifier\n",
        "\n",
        "\n",
        "#Validate the DT classifier\n",
        "print('Validation set score: {:.4f}'.format(clf.score(x_validation, y_validation)))\n",
        "\n",
        "#Evaluate the DT classifier\n",
        "print('Test set score: {:.4f}'.format(clf.score(x_test, y_test)))"
      ],
      "execution_count": 100,
      "outputs": [
        {
          "output_type": "stream",
          "text": [
            "Validation set score: 0.1940\n",
            "Test set score: 0.2129\n"
          ],
          "name": "stdout"
        }
      ]
    },
    {
      "cell_type": "code",
      "metadata": {
        "colab": {
          "base_uri": "https://localhost:8080/"
        },
        "id": "A8J_pOj12mdS",
        "outputId": "559f3e94-a7c7-4c20-a60f-bbf3e53af453"
      },
      "source": [
        "# Print the Confusion Matrix \n",
        "from sklearn.metrics import confusion_matrix\n",
        "\n",
        "\n",
        "#make predictions for GNB classifier\n",
        "#y_pred = gnb.predict(x_test)\n",
        "#print(y_pred)\n",
        "\n",
        "#make predictions for DT classifier\n",
        "y_pred_DT= clf.predict(x_test)\n",
        "print(y_pred_DT)\n",
        "\n",
        "#for DT classifier\n",
        "cmDT = confusion_matrix(y_test, y_pred_DT)\n",
        "\n",
        "#for GNB classifier\n",
        "cmGNB = confusion_matrix(y_test, y_pred)\n",
        "\n",
        "print('Confusion matrix for DT\\n\\n', cmDT)\n",
        "print('******************************************************')\n",
        "print('Confusion matrix for GNB\\n\\n', cmGNB)"
      ],
      "execution_count": 103,
      "outputs": [
        {
          "output_type": "stream",
          "text": [
            "[ 8 13  8  8 11  7  7 10  9 11 10 14 11 14 11  6 12  9 10 11 10  6 17 18\n",
            "  8  5  9 10  5  7  9 10 11 10 10  8 10 15  4 11  8 12  6  6  9 10 11 14\n",
            "  9 13  9  7 13  6  9 10  8  8  7  7 12 13  7  7 11  8 15  8 18  5  9  9\n",
            " 10  6 11  8 16  7  6  8 12 10 11  7  6  8 14 10  5 11  7 11  8  9  6  9\n",
            "  3 13  6 15 10  9 13 10  7  9 11 14  9 13 10 10  8 11  9  8 13 13  8 13\n",
            "  9 10  7  6 10 10  9  9  9 11 11  9  5  8  6 12 11  6  9 12 11  9  6 23\n",
            "  9  8  9 12 11 14 10 11  6  8  6  8 11 10 14  9  7 10  7 11  9 23 10 11\n",
            " 11 15 12 17 10  9 12 10  7 11  7  7 10 14 12  7 16 10  7 17 11  8 12  9\n",
            " 11  8  9 10  8 20 12 16  7  8 10 10 11 12 11 15  6 11  8  7 13  7  6 11\n",
            " 10  4 11 11  8  4 13 12 10  7  9 11 11 15  8  9 11  7  7  6 10 13  9  9\n",
            " 15 18  7 13  8 11  9 13 10  7 20 10  9 10  9  7 11  7 12  8  8 10 14  8\n",
            "  7  8  7  6  7 11 11 10 11  9  8  9 14 12 10 10  9  6  9 10 10 11  8  9\n",
            "  9 10 10  8  9 13 12 10  9 10 11 14  7  9  9  6 10  7 10 16 12  8 12  9\n",
            " 11  7 10 27  6 10  9  9  9  9 15  5 11  8  6 10 11 13 16  9 14  9  6  5\n",
            "  8 10  7  8  8 12 13 10 11  8 10 20 11  6  6 14  8 12  9 20 13 10  8 10\n",
            " 14  7  9  7 13 10  7 13 15 10  4  9  7 10 16 11  9 10  9  9  5 11  3 11\n",
            " 17  7 15  9  8 11 10 12  9 13 16 12 10  7 10  5  9 10  8 14  9 11  6  7\n",
            "  6  7  8 10  8 17  4 10 10 16 12  7 13 14  8 13 14  9  8 10  9  5  8 13\n",
            "  7 10  8  7  9  8  7 14 16 12 12  9 11  9 13 10 11  6 11 13 11  6  8  9\n",
            "  9 13 15  4  8  6 14 14 17 11 12  7 11  8 11 12  9  5  7 10  6 12 11 11\n",
            " 10 11  7  7  8  5  9 13 11 10  9 12  7 14  8 13 11  6 11 10  9 11 11  6\n",
            " 15  9 15 10  3  7 17  4 10 11  7 11  6 11 11  8  8 12  7 12  9  7 12 15\n",
            " 14 10  8 11  7  5  8 15  7 11 10  8  5  7  9 12  7 10  9 15 14 14  6  9\n",
            " 12 11 12  7 13  9 12  6 10  9  7 10  7  9 11 10 16  8 10  8 10 12  8 14\n",
            "  7  9 11  9 18 11  9  9  7 14  9 16  7  7 10  8  7 11 10 12  5  8  7  8\n",
            " 10  6 10  8  8  8 13 18  9 10 12 11  9  8 11  8  7  9  9  9  7 11  9  7\n",
            " 12  7  9 14 10  6  6  6  8 11  9  8 11 10 10  8  8  4 10 11  7  8 11  4\n",
            " 15 15 11 10  5 13  6 11 13 11  7 11 11 11  8 12  9  8 11  8  9 10  6  6\n",
            "  6  7  7 12 10 10  9  9  7  6 11  8  9  8 16 12  9 10  8 19  8 10  9  8\n",
            "  6 10 13  9  9 10  9  9 10  9  8 15  7 16  6  3 11  8 21  9 10 10  5  7\n",
            " 16  6  8  9 10  6  7  8 11 11 10  6 14 10  9  5 11 11  7 10  7 12  9  8\n",
            " 10  8  8  9  8  7  7 10  6 10  9 10 14 12 10  8 13 15  8  9  5 12 13 12\n",
            " 11 12 10  9 11  9  8  7 14  8 10 10  7  9  7 12 10  9 15 10 17 10 10  9\n",
            " 15  8 11 10 16  7  9  8  9 10  8  9 11  7  6 10 10  9 14  9 16  8  7  8\n",
            " 13  8  9 14  9  8 16  6 10  8  9 12  7  4  7 11  7 11  7 10]\n",
            "Confusion matrix for DT\n",
            "\n",
            " [[ 0  0  1  0  0  0  0  0  0  0  0  0  0  0  0  0  0  0  0  0  0  0  0  0\n",
            "   0  0  0]\n",
            " [ 0  0  0  1  0  0  0  0  0  0  0  0  0  0  0  0  0  0  0  0  0  0  0  0\n",
            "   0  0  0]\n",
            " [ 0  0  0  1  0  0  0  0  0  0  0  0  0  0  0  0  0  0  0  0  0  0  0  0\n",
            "   0  0  0]\n",
            " [ 0  0  3  3  3  1  1  0  0  0  0  0  0  0  0  0  0  0  0  0  0  0  0  0\n",
            "   0  0  0]\n",
            " [ 0  0  0  3  8  8  3  2  0  0  0  0  0  0  0  0  0  0  0  0  0  0  0  0\n",
            "   0  0  0]\n",
            " [ 0  0  0  1  6 15 20  5  3  1  0  0  0  0  0  0  0  0  0  0  0  0  0  0\n",
            "   0  0  0]\n",
            " [ 0  0  0  1  0 21 26 22  5  5  3  0  0  2  0  0  0  0  0  0  0  0  0  0\n",
            "   0  0  0]\n",
            " [ 0  0  0  0  1  4 18 24 20 17  6  1  1  0  0  0  0  0  0  0  0  0  0  0\n",
            "   0  0  0]\n",
            " [ 0  0  0  0  1  3 17 28 33 27 10  8  8  8  2  0  0  0  0  0  0  0  0  0\n",
            "   0  0  0]\n",
            " [ 0  0  0  0  0  2  8  8 30 28 22 16  3  5  1  5  2  1  0  0  0  0  0  0\n",
            "   0  0  0]\n",
            " [ 0  0  0  0  0  1  3  9 15 15 23 12  5  2  1  1  2  1  0  0  0  0  0  0\n",
            "   0  0  0]\n",
            " [ 0  0  0  0  0  0  0  1  9 12 17  5  6  3  3  2  1  0  1  0  0  0  0  0\n",
            "   0  1  0]\n",
            " [ 0  0  0  0  0  0  0  4  5  9  7  0  7  6  1  1  1  0  0  2  0  0  0  0\n",
            "   0  0  0]\n",
            " [ 0  0  0  0  0  0  0  1  2  6  4  3  1  2  5  0  1  0  0  0  0  0  0  0\n",
            "   0  0  0]\n",
            " [ 0  0  0  0  0  0  1  0  2  4  4  2  4  2  3  2  0  0  0  0  0  0  0  0\n",
            "   0  0  0]\n",
            " [ 0  0  0  0  0  0  0  1  0  1  2  1  1  0  1  0  0  0  0  0  1  0  1  0\n",
            "   0  0  0]\n",
            " [ 0  0  0  0  0  0  0  1  0  1  1  1  1  0  1  0  1  1  0  1  0  0  0  0\n",
            "   0  0  0]\n",
            " [ 0  0  0  0  0  0  0  1  3  1  2  0  1  0  2  2  0  0  0  0  0  0  0  0\n",
            "   0  0  0]\n",
            " [ 0  0  0  0  0  0  0  0  0  0  1  2  0  0  1  2  0  1  0  0  0  0  0  0\n",
            "   0  0  0]\n",
            " [ 0  0  0  0  0  0  0  0  0  0  2  0  0  0  1  1  0  0  0  0  0  0  0  0\n",
            "   0  0  0]\n",
            " [ 0  0  0  0  0  0  0  0  0  1  1  0  0  1  0  0  0  1  0  1  0  0  0  0\n",
            "   0  0  0]\n",
            " [ 0  0  0  0  0  0  0  0  1  0  0  0  0  0  0  0  0  0  0  0  0  0  0  0\n",
            "   0  0  0]\n",
            " [ 0  0  0  0  0  0  0  0  0  0  0  0  0  1  0  0  0  0  0  0  0  0  0  0\n",
            "   0  0  0]\n",
            " [ 0  0  0  0  0  0  0  0  0  0  0  0  0  0  0  0  0  0  0  0  0  0  1  0\n",
            "   0  0  0]\n",
            " [ 0  0  0  0  0  0  0  0  0  0  1  0  0  0  0  0  0  0  0  0  0  0  0  0\n",
            "   0  0  0]\n",
            " [ 0  0  0  0  0  0  0  0  0  0  0  0  0  0  0  0  0  0  0  0  0  0  0  0\n",
            "   0  0  0]\n",
            " [ 0  0  0  0  0  0  0  0  0  0  0  0  0  0  0  1  0  0  0  0  0  0  0  0\n",
            "   0  0  0]]\n",
            "******************************************************\n",
            "Confusion matrix for GNB\n",
            "\n",
            " [[ 0  0  1  0  0  0  0  0  0  0  0  0  0  0  0  0  0  0  0  0  0  0  0  0\n",
            "   0  0]\n",
            " [ 0  0  1  0  0  0  0  0  0  0  0  0  0  0  0  0  0  0  0  0  0  0  0  0\n",
            "   0  0]\n",
            " [ 0  0  1  0  0  0  0  0  0  0  0  0  0  0  0  0  0  0  0  0  0  0  0  0\n",
            "   0  0]\n",
            " [ 0  0  7  4  0  0  0  0  0  0  0  0  0  0  0  0  0  0  0  0  0  0  0  0\n",
            "   0  0]\n",
            " [ 0  0  0 16  1  5  2  0  0  0  0  0  0  0  0  0  0  0  0  0  0  0  0  0\n",
            "   0  0]\n",
            " [ 0  0  1 13  6 18  6  3  0  0  0  0  0  0  0  0  0  0  0  0  0  1  3  0\n",
            "   0  0]\n",
            " [ 0  0  0  6  7 36 15 10  0  0  0  0  0  0  0  0  0  0  0  0  0  3  8  0\n",
            "   0  0]\n",
            " [ 0  0  0  1  0 11 15 22  1  0  6  0  0  0  0  0  0  0  0  0  0 11 25  0\n",
            "   0  0]\n",
            " [ 0  0  0  1  2  7 21 26  4  0  6  0  0  0  0  0  0  0  0  0  0 26 52  0\n",
            "   0  0]\n",
            " [ 0  0  0  0  2  5  9 18  3  0 20  0  1  0  0  0  0  1  0  0  0 30 42  0\n",
            "   0  0]\n",
            " [ 0  0  0  0  1  3  5  6  3  0 22  2  0  0  0  0  0  0  0  0  0 15 33  0\n",
            "   0  0]\n",
            " [ 0  0  0  0  0  1  5  2  1  1 13  1  0  0  0  0  0  0  0  0  0 15 22  0\n",
            "   0  0]\n",
            " [ 0  0  0  0  0  0  2  3  3  0  6  0  0  0  0  0  0  0  0  0  0  6 23  0\n",
            "   0  0]\n",
            " [ 0  0  0  0  0  0  0  2  0  1  4  1  0  0  0  0  0  0  0  0  0  4 13  0\n",
            "   0  0]\n",
            " [ 0  0  0  0  0  0  1  0  0  1  3  0  0  0  0  0  0  0  0  0  0  4 15  0\n",
            "   0  0]\n",
            " [ 0  0  0  0  0  0  0  0  0  0  0  0  0  0  0  0  0  1  0  0  0  3  5  0\n",
            "   0  0]\n",
            " [ 0  0  0  0  0  0  0  0  1  1  2  0  0  0  0  0  0  2  0  0  0  3  0  0\n",
            "   0  0]\n",
            " [ 0  0  0  0  0  0  0  2  0  0  1  0  0  0  0  0  0  0  0  0  0  4  5  0\n",
            "   0  0]\n",
            " [ 0  0  0  0  0  0  0  0  0  0  1  0  0  0  0  0  0  0  0  0  0  1  5  0\n",
            "   0  0]\n",
            " [ 0  0  0  0  0  0  0  0  0  0  0  0  0  0  0  0  0  0  0  1  0  1  2  0\n",
            "   0  0]\n",
            " [ 0  0  0  0  0  0  0  0  0  0  1  0  0  0  0  0  0  0  0  0  0  2  2  0\n",
            "   0  0]\n",
            " [ 0  0  0  0  0  0  0  0  0  0  0  0  0  0  0  0  0  0  0  0  0  0  1  0\n",
            "   0  0]\n",
            " [ 0  0  0  0  0  0  0  0  0  0  0  0  0  0  0  0  0  0  0  0  0  0  1  0\n",
            "   0  0]\n",
            " [ 0  0  0  0  0  0  0  0  0  0  0  0  0  0  0  0  0  0  0  0  0  0  1  0\n",
            "   0  0]\n",
            " [ 0  0  0  0  0  0  0  0  0  0  0  0  0  0  0  0  0  0  0  0  0  0  1  0\n",
            "   0  0]\n",
            " [ 0  0  0  0  0  0  0  0  0  0  1  0  0  0  0  0  0  0  0  0  0  0  0  0\n",
            "   0  0]]\n"
          ],
          "name": "stdout"
        }
      ]
    },
    {
      "cell_type": "code",
      "metadata": {
        "colab": {
          "base_uri": "https://localhost:8080/"
        },
        "id": "XatvjdNuJKLC",
        "outputId": "1a8ad73b-333f-4bf8-f7cc-5434dfd0a9ad"
      },
      "source": [
        "#model evaluation of GNB\n",
        "accuracyGNB = accuracy_score(y_test,y_pred)*100\n",
        "print(\"Accuracy of GNB classifier is \", accuracyGNB)\n",
        "\n",
        "# summarize the fit of the GNB model\n",
        "print(metrics.classification_report(y_test,y_pred))"
      ],
      "execution_count": 108,
      "outputs": [
        {
          "output_type": "stream",
          "text": [
            "Accuracy of GNB classifier is  10.76555023923445\n",
            "              precision    recall  f1-score   support\n",
            "\n",
            "           1       0.00      0.00      0.00         1\n",
            "           2       0.00      0.00      0.00         1\n",
            "           3       0.09      1.00      0.17         1\n",
            "           4       0.10      0.36      0.15        11\n",
            "           5       0.05      0.04      0.05        24\n",
            "           6       0.21      0.35      0.26        51\n",
            "           7       0.19      0.18      0.18        85\n",
            "           8       0.23      0.24      0.24        92\n",
            "           9       0.25      0.03      0.05       145\n",
            "          10       0.00      0.00      0.00       131\n",
            "          11       0.26      0.24      0.25        90\n",
            "          12       0.25      0.02      0.03        61\n",
            "          13       0.00      0.00      0.00        43\n",
            "          14       0.00      0.00      0.00        25\n",
            "          15       0.00      0.00      0.00        24\n",
            "          16       0.00      0.00      0.00         9\n",
            "          17       0.00      0.00      0.00         9\n",
            "          18       0.00      0.00      0.00        12\n",
            "          19       0.00      0.00      0.00         7\n",
            "          20       1.00      0.25      0.40         4\n",
            "          21       0.00      0.00      0.00         5\n",
            "          22       0.00      0.00      0.00         1\n",
            "          23       0.00      1.00      0.01         1\n",
            "          25       0.00      0.00      0.00         1\n",
            "          26       0.00      0.00      0.00         1\n",
            "          29       0.00      0.00      0.00         1\n",
            "\n",
            "    accuracy                           0.11       836\n",
            "   macro avg       0.10      0.14      0.07       836\n",
            "weighted avg       0.15      0.11      0.10       836\n",
            "\n"
          ],
          "name": "stdout"
        },
        {
          "output_type": "stream",
          "text": [
            "/usr/local/lib/python3.7/dist-packages/sklearn/metrics/_classification.py:1272: UndefinedMetricWarning: Precision and F-score are ill-defined and being set to 0.0 in labels with no predicted samples. Use `zero_division` parameter to control this behavior.\n",
            "  _warn_prf(average, modifier, msg_start, len(result))\n"
          ],
          "name": "stderr"
        }
      ]
    },
    {
      "cell_type": "code",
      "metadata": {
        "colab": {
          "base_uri": "https://localhost:8080/"
        },
        "id": "zq6DMmUg8SkL",
        "outputId": "b68d9fd9-ac7d-4bc5-b3f1-8514d2bd339c"
      },
      "source": [
        "#model evaluation of DT\n",
        "accuracyDT = accuracy_score(y_test,y_pred_DT)*100\n",
        "print(\"Accuracy of DT classifier is \", accuracyDT)\n",
        "\n",
        "# summarize the fit of the GNB model\n",
        "print(metrics.classification_report(y_test,y_pred_DT))"
      ],
      "execution_count": 109,
      "outputs": [
        {
          "output_type": "stream",
          "text": [
            "Accuracy of DT classifier is  21.291866028708135\n",
            "              precision    recall  f1-score   support\n",
            "\n",
            "           1       0.00      0.00      0.00         1\n",
            "           2       0.00      0.00      0.00         1\n",
            "           3       0.00      0.00      0.00         1\n",
            "           4       0.30      0.27      0.29        11\n",
            "           5       0.42      0.33      0.37        24\n",
            "           6       0.27      0.29      0.28        51\n",
            "           7       0.27      0.31      0.29        85\n",
            "           8       0.22      0.26      0.24        92\n",
            "           9       0.26      0.23      0.24       145\n",
            "          10       0.22      0.21      0.22       131\n",
            "          11       0.22      0.26      0.23        90\n",
            "          12       0.10      0.08      0.09        61\n",
            "          13       0.18      0.16      0.17        43\n",
            "          14       0.06      0.08      0.07        25\n",
            "          15       0.14      0.12      0.13        24\n",
            "          16       0.00      0.00      0.00         9\n",
            "          17       0.12      0.11      0.12         9\n",
            "          18       0.00      0.00      0.00        12\n",
            "          19       0.00      0.00      0.00         7\n",
            "          20       0.00      0.00      0.00         4\n",
            "          21       0.00      0.00      0.00         5\n",
            "          22       0.00      0.00      0.00         1\n",
            "          23       0.00      0.00      0.00         1\n",
            "          25       0.00      0.00      0.00         1\n",
            "          26       0.00      0.00      0.00         1\n",
            "          27       0.00      0.00      0.00         0\n",
            "          29       0.00      0.00      0.00         1\n",
            "\n",
            "    accuracy                           0.21       836\n",
            "   macro avg       0.10      0.10      0.10       836\n",
            "weighted avg       0.21      0.21      0.21       836\n",
            "\n"
          ],
          "name": "stdout"
        },
        {
          "output_type": "stream",
          "text": [
            "/usr/local/lib/python3.7/dist-packages/sklearn/metrics/_classification.py:1272: UndefinedMetricWarning: Precision and F-score are ill-defined and being set to 0.0 in labels with no predicted samples. Use `zero_division` parameter to control this behavior.\n",
            "  _warn_prf(average, modifier, msg_start, len(result))\n",
            "/usr/local/lib/python3.7/dist-packages/sklearn/metrics/_classification.py:1272: UndefinedMetricWarning: Recall and F-score are ill-defined and being set to 0.0 in labels with no true samples. Use `zero_division` parameter to control this behavior.\n",
            "  _warn_prf(average, modifier, msg_start, len(result))\n"
          ],
          "name": "stderr"
        }
      ]
    },
    {
      "cell_type": "markdown",
      "metadata": {
        "id": "GSFI7ZAC9VlQ"
      },
      "source": [
        "#Answer (d)\n",
        "\n",
        "#Analysis- DT classifier with depth= 3 is a verified model (keeping k=5)"
      ]
    }
  ]
}